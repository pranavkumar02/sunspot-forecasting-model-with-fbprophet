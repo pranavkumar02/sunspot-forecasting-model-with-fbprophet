{
  "nbformat": 4,
  "nbformat_minor": 0,
  "metadata": {
    "colab": {
      "private_outputs": true,
      "provenance": [],
      "machine_shape": "hm",
      "gpuType": "L4"
    },
    "kernelspec": {
      "name": "python3",
      "display_name": "Python 3"
    },
    "language_info": {
      "name": "python"
    },
    "accelerator": "GPU"
  },
  "cells": [
    {
      "cell_type": "code",
      "source": [
        "!pip install prophet  #Installing prophet package"
      ],
      "metadata": {
        "id": "tUhKdiYuZv8I"
      },
      "execution_count": null,
      "outputs": []
    },
    {
      "cell_type": "code",
      "execution_count": null,
      "metadata": {
        "id": "YrW-yn-5Zafi"
      },
      "outputs": [],
      "source": [
        "import pandas as pd\n",
        "import numpy as np\n",
        "from prophet import Prophet\n",
        "from sklearn.metrics import mean_absolute_error, mean_absolute_percentage_error\n",
        "from sklearn.metrics import r2_score\n",
        "from sklearn.model_selection import train_test_split\n",
        "import matplotlib.pyplot as plt\n",
        "import seaborn as sns"
      ]
    },
    {
      "cell_type": "markdown",
      "source": [
        "**Loading and understanding the data**"
      ],
      "metadata": {
        "id": "ub79GpbRBiMG"
      }
    },
    {
      "cell_type": "code",
      "source": [
        "def dataset(file_path,time_period):\n",
        "  if time_period=='daily':\n",
        "    df = pd.read_csv(file_path,sep=';',header=None) #\n",
        "    df.columns= [\"Year\", \"Month\", \"Day\", \"Decimal_date\", \"Daily_Sunspot_Number\",\n",
        "              \"Daily_mean_Std_Deviation\", \"Observations_Daily\", \"Indicator\"]\n",
        "  elif time_period=='monthly':\n",
        "    df = pd.read_csv(file_path,sep=';',header=None)\n",
        "    df.columns= [\"Year\", \"Month\", \"Decimal_date\", \"Monthly_Sunspot_Number\",\n",
        "              \"Monthly_mean_Std_Deviation\", \"Observations_Yearly\", \"Indicator\"]\n",
        "  elif time_period=='yearly':\n",
        "    df = pd.read_csv(file_path,delimiter=\";\", header=None)\n",
        "    df.columns= [\"Year\", \"Yearly_Sunspot_Number\", \"Yearly_mean_Std_Deviation\",\n",
        "              \"Observations_Yearly\", \"Indicator\"]\n",
        "  return df"
      ],
      "metadata": {
        "id": "pMCK5tNi-A3t"
      },
      "execution_count": null,
      "outputs": []
    },
    {
      "cell_type": "code",
      "source": [
        "df1=dataset('/content/SN_d_tot_V2.0.csv','daily')"
      ],
      "metadata": {
        "id": "Gtd4JOVy_ZpX"
      },
      "execution_count": null,
      "outputs": []
    },
    {
      "cell_type": "code",
      "source": [
        "#understanding the data\n",
        "print(df1.head())\n",
        "print(df1.info())\n",
        "print(df1.shape)\n",
        "print(df1.describe())"
      ],
      "metadata": {
        "id": "RSrmsCZPeTHZ"
      },
      "execution_count": null,
      "outputs": []
    },
    {
      "cell_type": "code",
      "source": [
        "df2=dataset('/content/SN_m_tot_V2.0.csv','monthly')"
      ],
      "metadata": {
        "id": "tVM-8UPjeWb1"
      },
      "execution_count": null,
      "outputs": []
    },
    {
      "cell_type": "code",
      "source": [
        "#understanding the data\n",
        "print(df2.head())\n",
        "print(df2.info())\n",
        "print(df2.shape)\n",
        "print(df2.describe())"
      ],
      "metadata": {
        "id": "J7YP9PiMe5U0"
      },
      "execution_count": null,
      "outputs": []
    },
    {
      "cell_type": "code",
      "source": [
        "df3=dataset('/content/SN_y_tot_V2.0.csv','yearly')"
      ],
      "metadata": {
        "id": "hJRfz0JVALrz"
      },
      "execution_count": null,
      "outputs": []
    },
    {
      "cell_type": "code",
      "source": [
        "#understanding the data\n",
        "print(df3.head())\n",
        "print(df3.info())\n",
        "print(df3.shape)\n",
        "print(df3.describe())"
      ],
      "metadata": {
        "id": "XNh309U4fcCP"
      },
      "execution_count": null,
      "outputs": []
    },
    {
      "cell_type": "code",
      "source": [
        "print(df1.duplicated().sum())\n",
        "print(df2.duplicated().sum())\n",
        "print(df3.duplicated().sum())"
      ],
      "metadata": {
        "id": "a71AV2A4ffwL"
      },
      "execution_count": null,
      "outputs": []
    },
    {
      "cell_type": "code",
      "source": [
        "print(df1.isnull().sum())\n",
        "print(df2.isnull().sum())\n",
        "print(df3.isnull().sum())"
      ],
      "metadata": {
        "id": "8hviKgpEi9U5"
      },
      "execution_count": null,
      "outputs": []
    },
    {
      "cell_type": "markdown",
      "source": [
        "**Preprocessing and Cleaning the data**"
      ],
      "metadata": {
        "id": "mRCoBDc9qyv8"
      }
    },
    {
      "cell_type": "code",
      "source": [
        "def processing_cleaning(df):\n",
        "  unit_time=None\n",
        "  if df.shape[1]==8:\n",
        "    df['ds'] = pd.to_datetime(df[['Year','Month','Day']])\n",
        "    df = df.rename(columns={'Daily_Sunspot_Number':'y'})\n",
        "    df=df[['ds','y']]\n",
        "    df=df[df['y']>=0]#A value of -1 indicates that no number is available for that day (missing value).\n",
        "    df['y'] = df['y'].replace(0, 1e-5)\n",
        "    unit_time='days'\n",
        "  elif df.shape[1]==7:\n",
        "    df['ds'] = pd.to_datetime(df[['Year','Month']].assign(Day=1))\n",
        "    df = df.rename(columns={'Monthly_Sunspot_Number':'y'})\n",
        "    df=df[['ds','y']]\n",
        "    df=df[df['y']>=0]#A value of -1 indicates that no number is available for that day (missing value).\n",
        "    df['y'] = df['y'].replace(0, 1e-5)\n",
        "    unit_time='months'\n",
        "  elif df.shape[1]==5:\n",
        "     df['Year']=df['Year'].astype(int)\n",
        "     df['ds']=pd.to_datetime(df[['Year']].assign(Day=1,month=1))\n",
        "     df = df.rename(columns={'Yearly_Sunspot_Number':'y'})\n",
        "     df=df[['ds','y']]\n",
        "     df=df[df['y']>=0]#A value of -1 indicates that no number is available for that day (missing value).\n",
        "     df['y'] = df['y'].replace(0, 1e-5)\n",
        "     unit_time='years'\n",
        "  return df,unit_time"
      ],
      "metadata": {
        "id": "kVSDDeXjBtHN"
      },
      "execution_count": null,
      "outputs": []
    },
    {
      "cell_type": "code",
      "source": [
        "df1,unit_daily=processing_cleaning(df1)\n",
        "df2,unit_monthly=processing_cleaning(df2)\n",
        "df3,unit_yearly=processing_cleaning(df3)"
      ],
      "metadata": {
        "id": "NaNFQiKDDF4d"
      },
      "execution_count": null,
      "outputs": []
    },
    {
      "cell_type": "code",
      "source": [
        "def outlier_detection(df):\n",
        "# Calculate IQR\n",
        " Q1 = df['y'].quantile(0.25)  # First quartile (25th percentile)\n",
        " Q3 = df['y'].quantile(0.75)  # Third quartile (75th percentile)\n",
        " IQR = Q3 - Q1  # Interquartile Range\n",
        "\n",
        " upper_bound = Q3 + 1.5 * IQR\n",
        " lower_bound = Q1 - 1.5 * IQR\n",
        "\n",
        "# Find outliers\n",
        " outliers = df[(df['y']<lower_bound)|(df['y']>upper_bound)]\n",
        " df['y'] = np.clip(df['y'], lower_bound, upper_bound)\n",
        " return df"
      ],
      "metadata": {
        "id": "isj7wNr0XZXS"
      },
      "execution_count": null,
      "outputs": []
    },
    {
      "cell_type": "code",
      "source": [
        "df1=outlier_detection(df1)"
      ],
      "metadata": {
        "id": "K-anoUr-Xtik"
      },
      "execution_count": null,
      "outputs": []
    },
    {
      "cell_type": "code",
      "source": [
        "#understanding the data\n",
        "print(df1.head())\n",
        "print(df1.info())\n",
        "print(df1.shape)\n",
        "print(df1.describe())"
      ],
      "metadata": {
        "id": "FIGcfo8DDnSk"
      },
      "execution_count": null,
      "outputs": []
    },
    {
      "cell_type": "code",
      "source": [
        "#understanding the data\n",
        "print(df2.head())\n",
        "print(df2.info())\n",
        "print(df2.shape)\n",
        "print(df2.describe())"
      ],
      "metadata": {
        "id": "segXdebUFzG1"
      },
      "execution_count": null,
      "outputs": []
    },
    {
      "cell_type": "code",
      "source": [
        "#understanding the data\n",
        "print(df3.head())\n",
        "print(df3.info())\n",
        "print(df3.shape)\n",
        "print(df3.describe())"
      ],
      "metadata": {
        "id": "DWNOkLb2F0GC"
      },
      "execution_count": null,
      "outputs": []
    },
    {
      "cell_type": "markdown",
      "source": [
        "**EDA and Modeling for daily sunspot data**"
      ],
      "metadata": {
        "id": "9atBE_BWfrSb"
      }
    },
    {
      "cell_type": "code",
      "source": [
        "plt.figure(figsize=(12, 8))\n",
        "plt.plot(df1['ds'], df1['y'])\n",
        "plt.title('Daily Sunspots Over Time')\n",
        "plt.xlabel('Date')\n",
        "plt.ylabel('Sunspots')\n",
        "plt.show()"
      ],
      "metadata": {
        "id": "fx8H8_9yJwBw"
      },
      "execution_count": null,
      "outputs": []
    },
    {
      "cell_type": "code",
      "source": [
        "plt.figure(figsize=(8, 6))\n",
        "sns.histplot(df1['y'], bins=50, kde=True, color='blue')\n",
        "plt.title('Distribution of Daily Sunspots')\n",
        "plt.xlabel('Sunspots')\n",
        "plt.ylabel('Frequency')\n",
        "plt.show()"
      ],
      "metadata": {
        "id": "sU_WAYTaKpn1"
      },
      "execution_count": null,
      "outputs": []
    },
    {
      "cell_type": "code",
      "source": [
        "df1['Rolling_Mean'] = df1['y'].rolling(window=365).mean()  # 1-year rolling mean\n",
        "\n",
        "plt.figure(figsize=(12, 6))\n",
        "plt.plot(df1['ds'],df1['y'], label='Daily Sunspot Counts', alpha=0.5)\n",
        "plt.plot(df1['ds'], df1['Rolling_Mean'], label='1-Year Rolling Mean', color='red', linewidth=2)\n",
        "plt.title('Daily Sunspots with 1-Year Rolling Mean', fontsize=16)\n",
        "plt.xlabel('Date', fontsize=14)\n",
        "plt.ylabel('Sunspot Counts', fontsize=14)\n",
        "plt.grid(True)\n",
        "plt.legend()\n",
        "plt.show()\n"
      ],
      "metadata": {
        "id": "AFb205CEUyWI"
      },
      "execution_count": null,
      "outputs": []
    },
    {
      "cell_type": "code",
      "source": [
        "from statsmodels.tsa.seasonal import seasonal_decompose\n",
        "\n",
        "# Set the datetime column as the index for decomposition\n",
        "df1.set_index('ds', inplace=True)\n",
        "\n",
        "result = seasonal_decompose(df1['y'], model='additive', period=365)\n",
        "\n",
        "# Plot decomposition\n",
        "result.plot()\n",
        "plt.suptitle('Seasonal Decomposition of Sunspot Counts', fontsize=16)\n",
        "plt.show()\n",
        "\n",
        "# Reset index if needed later\n",
        "df1.reset_index(inplace=True)"
      ],
      "metadata": {
        "id": "vCbuZHFbLnML"
      },
      "execution_count": null,
      "outputs": []
    },
    {
      "cell_type": "code",
      "source": [
        "#For Daily dataset\n",
        "growth='linear'\n",
        "changepoint_prior_scale=0.01\n",
        "n_changepoints=50\n",
        "model= Prophet(growth=growth,changepoint_prior_scale=changepoint_prior_scale,n_changepoints=n_changepoints)\n",
        "model.add_seasonality(name='yearly', period=365, fourier_order=10)\n",
        "model.add_seasonality(name='weekly', period=7, fourier_order=3)\n",
        "forcast_periods = [100,200,365]\n",
        "if growth == 'logistic':\n",
        "     df1['cap'] = df1['y'].max() + 10\n",
        "\n",
        "# Fit the model\n",
        "model.fit(df1)\n",
        "\n",
        "\n",
        "for periods in forcast_periods:\n",
        "# Generate future dates\n",
        " print(f\"\\n-----------Forecasting for {periods} days into the future-----------\")\n",
        " future = model.make_future_dataframe(periods=periods, freq='D')\n",
        " if growth == 'logistic':\n",
        "   future['cap'] = df1['cap'].max()\n",
        "\n",
        " # Make predictions\n",
        " forecast = model.predict(future)\n",
        "\n",
        " # Print the last few forecasted values\n",
        " print(f\"\\n\\n\\nForecasted values for the last few days of {periods} days:\")\n",
        " print(forecast[['ds', 'yhat', 'yhat_lower', 'yhat_upper']].tail())\n",
        "\n",
        " # Plot the forecast\n",
        " plt.figure(figsize=(12, 6))\n",
        " plt.plot(df1['ds'],df1['y'], label='Actual',color='black')\n",
        " plt.plot(forecast['ds'], forecast['yhat'], label='Forecast', linestyle='dashed',color='red')\n",
        " plt.fill_between(forecast['ds'], forecast['yhat_lower'], forecast['yhat_upper'], color='green', alpha=0.2, label='Confidence Interval')\n",
        " plt.title(f\"Sunspot Forecast ({periods} {unit_daily}(s)\")\n",
        " plt.xlabel('Date')\n",
        " plt.ylabel('Sunspots')\n",
        " plt.legend()\n",
        " plt.show()\n",
        "\n",
        "\n",
        "#Evalution matrix\n",
        "actual = df1['y']\n",
        "predicted = forecast['yhat'][:len(df1)]"
      ],
      "metadata": {
        "id": "fujmvYuG0qE3"
      },
      "execution_count": null,
      "outputs": []
    },
    {
      "cell_type": "code",
      "source": [
        "# Plot the components (trend, yearly seasonality, weekly seasonality, etc.)\n",
        "model.plot_components(forecast)\n",
        "plt.show()"
      ],
      "metadata": {
        "id": "qDM8MbOlefqf"
      },
      "execution_count": null,
      "outputs": []
    },
    {
      "cell_type": "code",
      "source": [
        "def evaluation_matrix(actual,predicted):\n",
        "  mae = mean_absolute_error(actual, predicted)\n",
        "  mape = mean_absolute_percentage_error(actual, predicted)\n",
        "  r2 = r2_score(actual, predicted)\n",
        "  evalution_matrix=pd.DataFrame({'MAE':[mae],'MAPE':[mape],'R2':[r2]})\n",
        "  return evalution_matrix"
      ],
      "metadata": {
        "id": "XZlcP5U-RYap"
      },
      "execution_count": null,
      "outputs": []
    },
    {
      "cell_type": "code",
      "source": [
        "evalution_matrix=evaluation_matrix(actual,predicted)\n",
        "print(evalution_matrix)"
      ],
      "metadata": {
        "id": "oN-zoP_dco4H"
      },
      "execution_count": null,
      "outputs": []
    },
    {
      "cell_type": "markdown",
      "source": [
        "**EDA and Modeling for monthly sunspot data**"
      ],
      "metadata": {
        "id": "34AurDVWf1s3"
      }
    },
    {
      "cell_type": "code",
      "source": [
        "plt.figure(figsize=(12, 8))\n",
        "plt.plot(df2['ds'], df2['y'])\n",
        "plt.title('Monthly Sunspots Over Time')\n",
        "plt.xlabel('Date')\n",
        "plt.ylabel('Sunspots')\n",
        "plt.show()"
      ],
      "metadata": {
        "id": "EVP4sCLmKw-G"
      },
      "execution_count": null,
      "outputs": []
    },
    {
      "cell_type": "code",
      "source": [
        "plt.figure(figsize=(8, 6))\n",
        "sns.histplot(df2['y'], bins=50, kde=True, color='blue')\n",
        "plt.title('Distribution of Monthly Sunspots')\n",
        "plt.xlabel('Sunspots')\n",
        "plt.ylabel('Frequency')\n",
        "plt.show()"
      ],
      "metadata": {
        "id": "pmhhfXjKf_Jf"
      },
      "execution_count": null,
      "outputs": []
    },
    {
      "cell_type": "code",
      "source": [
        "df2['Rolling_Mean'] = df2['y'].rolling(window=365).mean()  # 12-Month rolling mean\n",
        "\n",
        "plt.figure(figsize=(12, 6))\n",
        "plt.plot(df2['ds'],df2['y'], label='Montly Sunspot Counts', alpha=0.5)\n",
        "plt.plot(df2['ds'], df2['Rolling_Mean'], label='12-Month Rolling Mean', color='red', linewidth=2)\n",
        "plt.title('Monthly Sunspots with 12-Month Rolling Mean', fontsize=16)\n",
        "plt.xlabel('Date', fontsize=14)\n",
        "plt.ylabel('Sunspot Counts', fontsize=14)\n",
        "plt.grid(True)\n",
        "plt.legend()\n",
        "plt.show()"
      ],
      "metadata": {
        "id": "wiyC8NaEgH-X"
      },
      "execution_count": null,
      "outputs": []
    },
    {
      "cell_type": "code",
      "source": [
        "# Decompose the time series\n",
        "decomposition = seasonal_decompose(df2['y'], model='additive', period=12)\n",
        "\n",
        "# Plot the components\n",
        "decomposition.plot()\n",
        "plt.show()"
      ],
      "metadata": {
        "id": "caV6A6Fe2UgE"
      },
      "execution_count": null,
      "outputs": []
    },
    {
      "cell_type": "code",
      "source": [
        "#for Monthly dataset\n",
        "growth='linear'\n",
        "changepoint_prior_scale=0.1\n",
        "n_changepoints=10\n",
        "fourier_orders =5\n",
        "\n",
        "model= Prophet(growth=growth, changepoint_prior_scale=changepoint_prior_scale, n_changepoints=n_changepoints)\n",
        "model.add_seasonality(name='monthly', period=12, fourier_order=fourier_orders)\n",
        "\n",
        "forecast_periods = [1,6,9]  # Define multiple periods for prediction\n",
        "if growth == 'logistic':\n",
        "     df2['cap'] = df2['y'].max() + 10\n",
        "# Fit the model\n",
        "model.fit(df2)\n",
        "# Forecast for each period\n",
        "for periods in forecast_periods:\n",
        "    print(f\"\\n-----------Forecasting for {periods} days into the future-----------\")\n",
        "\n",
        "    # Generate future dates\n",
        "    future = model.make_future_dataframe(periods=periods, freq='M')\n",
        "    if growth == 'logistic':\n",
        "        future['cap'] = df2['cap'].max()\n",
        "\n",
        "    # Make predictions\n",
        "    forecast = model.predict(future)\n",
        "\n",
        "    # Print the last few forecasted values\n",
        "    print(f\"\\n\\n\\nForecasted values for the last few days of {periods} months:\")\n",
        "    print(forecast[['ds', 'yhat', 'yhat_lower', 'yhat_upper']].tail())\n",
        "\n",
        "    # Plot the forecast\n",
        "    plt.figure(figsize=(12, 6))\n",
        "    plt.plot(df2['ds'],df2['y'], label='Actual',color='black')\n",
        "    plt.plot(forecast['ds'], forecast['yhat'], label='Forecast', linestyle='dashed',color='red')\n",
        "    plt.fill_between(forecast['ds'], forecast['yhat_lower'], forecast['yhat_upper'], color='green', alpha=0.2, label='Confidence Interval')\n",
        "    plt.title(f\"Sunspot Forecast ({periods} {unit_monthly}(s)\")\n",
        "    plt.xlabel('Date')\n",
        "    plt.ylabel('Sunspots')\n",
        "    plt.legend()\n",
        "    plt.show()\n",
        "\n",
        "#Evalution matrix\n",
        "actual = df2['y']\n",
        "predicted = forecast['yhat'][:len(df2)]"
      ],
      "metadata": {
        "id": "jW3CuJ0rbgUJ"
      },
      "execution_count": null,
      "outputs": []
    },
    {
      "cell_type": "code",
      "source": [
        "# Plot the components (trend, yearly seasonality, weekly seasonality, etc.)\n",
        "model.plot_components(forecast)\n",
        "plt.show()"
      ],
      "metadata": {
        "id": "Kk5iDwSFeu9N"
      },
      "execution_count": null,
      "outputs": []
    },
    {
      "cell_type": "code",
      "source": [
        "evalution_matrix=evaluation_matrix(actual,predicted)\n",
        "print(evalution_matrix)"
      ],
      "metadata": {
        "id": "SwJOK4VxfiKF"
      },
      "execution_count": null,
      "outputs": []
    },
    {
      "cell_type": "code",
      "source": [
        "#for Monthly dataset\n",
        "growth='logistic'\n",
        "changepoint_prior_scale=0.1\n",
        "n_changepoints=10\n",
        "fourier_orders =5\n",
        "\n",
        "model= Prophet(growth=growth, changepoint_prior_scale=changepoint_prior_scale, n_changepoints=n_changepoints)\n",
        "model.add_seasonality(name='monthly', period=30, fourier_order=fourier_orders)\n",
        "\n",
        "forecast_periods = [1,6,9]  # Define multiple periods for prediction\n",
        "if growth == 'logistic':\n",
        "     df2['cap'] = df2['y'].max() + 10\n",
        "# Fit the model\n",
        "model.fit(df2)\n",
        "# Forecast for each period\n",
        "for periods in forecast_periods:\n",
        "    print(f\"\\n-----------Forecasting for {periods} days into the future-----------\")\n",
        "\n",
        "    # Generate future dates\n",
        "    future = model.make_future_dataframe(periods=periods, freq='M')\n",
        "    if growth == 'logistic':\n",
        "        future['cap'] = df2['cap'].max()\n",
        "\n",
        "    # Make predictions\n",
        "    forecast = model.predict(future)\n",
        "\n",
        "    # Print the last few forecasted values\n",
        "    print(f\"\\n\\n\\nForecasted values for the last few days of {periods} months:\")\n",
        "    print(forecast[['ds', 'yhat', 'yhat_lower', 'yhat_upper']].tail())\n",
        "\n",
        "    # Plot the forecast\n",
        "    plt.figure(figsize=(12, 6))\n",
        "    plt.plot(df2['ds'],df2['y'], label='Actual',color='black')\n",
        "    plt.plot(forecast['ds'], forecast['yhat'], label='Forecast', linestyle='dashed',color='red')\n",
        "    plt.fill_between(forecast['ds'], forecast['yhat_lower'], forecast['yhat_upper'], color='green', alpha=0.2, label='Confidence Interval')\n",
        "    plt.title(f\"Sunspot Forecast ({periods} {unit_monthly}(s)\")\n",
        "    plt.xlabel('Date')\n",
        "    plt.ylabel('Sunspots')\n",
        "    plt.legend()\n",
        "    plt.show()\n",
        "\n",
        "#Evalution matrix\n",
        "actual = df2['y']\n",
        "predicted = forecast['yhat'][:len(df2)]"
      ],
      "metadata": {
        "id": "Rzy7h4WFgSw9"
      },
      "execution_count": null,
      "outputs": []
    },
    {
      "cell_type": "code",
      "source": [
        "# Plot the components (trend, yearly seasonality, weekly seasonality, etc.)\n",
        "model.plot_components(forecast)\n",
        "plt.show()"
      ],
      "metadata": {
        "id": "PEBFtSJEewdR"
      },
      "execution_count": null,
      "outputs": []
    },
    {
      "cell_type": "code",
      "source": [
        "evalution_matrix=evaluation_matrix(actual,predicted)\n",
        "print(evalution_matrix)"
      ],
      "metadata": {
        "id": "g-Giog96feWs"
      },
      "execution_count": null,
      "outputs": []
    },
    {
      "cell_type": "markdown",
      "source": [
        "**EDA and Modeling of yearly data**"
      ],
      "metadata": {
        "id": "TgjOCoFo0AAZ"
      }
    },
    {
      "cell_type": "code",
      "source": [
        "plt.figure(figsize=(12, 8))\n",
        "plt.plot(df3['ds'], df3['y'])\n",
        "plt.title('Yearly Sunspots Over Time')\n",
        "plt.xlabel('Date')\n",
        "plt.ylabel('Sunspots')\n",
        "plt.show()"
      ],
      "metadata": {
        "id": "QKu461nF27hv"
      },
      "execution_count": null,
      "outputs": []
    },
    {
      "cell_type": "code",
      "source": [
        "plt.figure(figsize=(8, 6))\n",
        "sns.histplot(df3['y'], bins=50, kde=True, color='blue')\n",
        "plt.title('Distribution of Yearly Sunspots')\n",
        "plt.xlabel('Sunspots')\n",
        "plt.ylabel('Frequency')"
      ],
      "metadata": {
        "id": "YKCxWAxe29YS"
      },
      "execution_count": null,
      "outputs": []
    },
    {
      "cell_type": "code",
      "source": [
        "df3 = df3.drop(df3.index[0:111])\n",
        "\n",
        "# Reset the index to ensure it starts from 0 again\n",
        "df3.reset_index(drop=True, inplace=True)\n",
        "\n",
        "df3.head()"
      ],
      "metadata": {
        "id": "G49GpFpm3ocp"
      },
      "execution_count": null,
      "outputs": []
    },
    {
      "cell_type": "code",
      "source": [
        "#for Yearly dataset\n",
        "growth='linear'\n",
        "changepoint_prior_scale=0.1\n",
        "n_changepoints=5\n",
        "fourier_orders =3\n",
        "\n",
        "model= Prophet(growth=growth, changepoint_prior_scale=changepoint_prior_scale, n_changepoints=n_changepoints)\n",
        "model.add_seasonality(name='yearly', period=11, fourier_order=fourier_orders)\n",
        "\n",
        "forecast_periods =[1,10,20] # Define multiple periods for prediction\n",
        "\n",
        "# Fit the model\n",
        "model.fit(df3)\n",
        "# Forecast for each period\n",
        "for periods in forecast_periods:\n",
        "    print(f\"\\n-----------Forecasting for {periods} days into the future-----------\")\n",
        "\n",
        "    # Generate future dates\n",
        "    future = model.make_future_dataframe(periods=periods, freq='Y')\n",
        "    if growth == 'logistic':\n",
        "        future['cap'] = df3['cap'].max()\n",
        "\n",
        "    # Make predictions\n",
        "    forecast = model.predict(future)\n",
        "\n",
        "    # Print the last few forecasted values\n",
        "    print(f\"\\n\\n\\nForecasted values for the last few days of {periods} Years:\")\n",
        "    print(forecast[['ds', 'yhat', 'yhat_lower', 'yhat_upper']].tail())\n",
        "\n",
        "    # Plot the forecast\n",
        "    plt.figure(figsize=(12, 6))\n",
        "    plt.plot(df3['ds'],df3['y'], label='Actual',color='black')\n",
        "    plt.plot(forecast['ds'], forecast['yhat'], label='Forecast', linestyle='dashed',color='red')\n",
        "    plt.fill_between(forecast['ds'], forecast['yhat_lower'], forecast['yhat_upper'], color='green', alpha=0.2, label='Confidence Interval')\n",
        "    plt.title(f\"Sunspot Forecast ({periods} {unit_yearly}(s)\")\n",
        "    plt.xlabel('Date')\n",
        "    plt.ylabel('Sunspots')\n",
        "    plt.legend()\n",
        "    plt.show()\n",
        "\n",
        "#Evalution matrix\n",
        "actual = df3['y']\n",
        "predicted = forecast['yhat'][:len(df3)]\n"
      ],
      "metadata": {
        "id": "wf8F4spZGkDR"
      },
      "execution_count": null,
      "outputs": []
    },
    {
      "cell_type": "code",
      "source": [
        "# Plot the components (trend, yearly seasonality, weekly seasonality, etc.)\n",
        "model.plot_components(forecast)\n",
        "plt.show()"
      ],
      "metadata": {
        "id": "5diG7Unb0IH4"
      },
      "execution_count": null,
      "outputs": []
    },
    {
      "cell_type": "code",
      "source": [
        "evalution_matrix=evaluation_matrix(actual,predicted)\n",
        "print(evalution_matrix)"
      ],
      "metadata": {
        "id": "PAJAheIz0M12"
      },
      "execution_count": null,
      "outputs": []
    },
    {
      "cell_type": "code",
      "source": [
        "#for Yearly dataset\n",
        "growth='flat'\n",
        "changepoint_prior_scale=0.1\n",
        "n_changepoints=5\n",
        "fourier_orders =3\n",
        "\n",
        "model= Prophet(growth=growth, changepoint_prior_scale=changepoint_prior_scale, n_changepoints=n_changepoints)\n",
        "model.add_seasonality(name='yearly', period=11, fourier_order=fourier_orders)\n",
        "\n",
        "forecast_periods =[1,10,20] # Define multiple periods for prediction\n",
        "# Fit the model\n",
        "model.fit(df3)\n",
        "# Forecast for each period\n",
        "for periods in forecast_periods:\n",
        "    print(f\"\\n-----------Forecasting for {periods} days into the future-----------\")\n",
        "\n",
        "    # Generate future dates\n",
        "    future = model.make_future_dataframe(periods=periods, freq='Y')\n",
        "    if growth == 'logistic':\n",
        "        future['cap'] = df3['cap'].max()\n",
        "\n",
        "    # Make predictions\n",
        "    forecast = model.predict(future)\n",
        "\n",
        "    # Print the last few forecasted values\n",
        "    print(f\"\\n\\n\\nForecasted values for the last few days of {periods} Years:\")\n",
        "    print(forecast[['ds', 'yhat', 'yhat_lower', 'yhat_upper']].tail())\n",
        "\n",
        "    # Plot the forecast\n",
        "    plt.figure(figsize=(12, 6))\n",
        "    plt.plot(df3['ds'],df3['y'], label='Actual',color='black')\n",
        "    plt.plot(forecast['ds'], forecast['yhat'], label='Forecast', linestyle='dashed',color='red')\n",
        "    plt.fill_between(forecast['ds'], forecast['yhat_lower'], forecast['yhat_upper'], color='green', alpha=0.2, label='Confidence Interval')\n",
        "    plt.title(f\"Sunspot Forecast ({periods} {unit_yearly}(s)\")\n",
        "    plt.xlabel('Date')\n",
        "    plt.ylabel('Sunspots')\n",
        "    plt.legend()\n",
        "    plt.show()\n",
        "\n",
        "#Evalution matrix\n",
        "actual = df3['y']\n",
        "predicted = forecast['yhat'][:len(df3)]\n"
      ],
      "metadata": {
        "id": "OFloq0Kf1Hpe"
      },
      "execution_count": null,
      "outputs": []
    },
    {
      "cell_type": "code",
      "source": [
        "# Plot the components (trend, yearly seasonality, weekly seasonality, etc.)\n",
        "model.plot_components(forecast)\n",
        "plt.show()"
      ],
      "metadata": {
        "id": "rUgb5G3h3ahv"
      },
      "execution_count": null,
      "outputs": []
    },
    {
      "cell_type": "code",
      "source": [
        "evalution_matrix=evaluation_matrix(actual,predicted)\n",
        "print(evalution_matrix)"
      ],
      "metadata": {
        "id": "NUOzL7-W3fcR"
      },
      "execution_count": null,
      "outputs": []
    }
  ]
}