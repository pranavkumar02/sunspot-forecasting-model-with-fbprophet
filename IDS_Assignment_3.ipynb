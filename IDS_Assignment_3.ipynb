{
  "nbformat": 4,
  "nbformat_minor": 0,
  "metadata": {
    "colab": {
      "private_outputs": true,
      "provenance": [],
      "machine_shape": "hm",
      "gpuType": "L4"
    },
    "kernelspec": {
      "name": "python3",
      "display_name": "Python 3"
    },
    "language_info": {
      "name": "python"
    },
    "accelerator": "GPU"
  },
  "cells": [
    {
      "cell_type": "code",
      "source": [
        "!pip install prophet  #Installing prophet package"
      ],
      "metadata": {
        "id": "tUhKdiYuZv8I"
      },
      "execution_count": null,
      "outputs": []
    },
    {
      "cell_type": "code",
      "execution_count": null,
      "metadata": {
        "id": "YrW-yn-5Zafi"
      },
      "outputs": [],
      "source": [
        "import pandas as pd\n",
        "from prophet import Prophet\n",
        "from sklearn.metrics import mean_absolute_error, mean_absolute_percentage_error\n",
        "from sklearn.metrics import r2_score\n",
        "from sklearn.model_selection import train_test_split\n",
        "import matplotlib.pyplot as plt"
      ]
    },
    {
      "cell_type": "code",
      "source": [
        "df1 = pd.read_csv('/content/SN_d_tot_V2.0.csv',sep=';',header=None) # we are using ; as delimiter and assigning\n",
        " # numerical values as column names"
      ],
      "metadata": {
        "id": "LcHXTgBCcLnP"
      },
      "execution_count": null,
      "outputs": []
    },
    {
      "cell_type": "code",
      "source": [
        "df1.columns= [\"Year\", \"Month\", \"Day\", \"Decimal_date\", \"Daily_Sunspot_Number\",\n",
        "              \"Daily_mean_Std_Deviation\", \"Observations_Daily\", \"Indicator\"]"
      ],
      "metadata": {
        "id": "vTQbh_iOeN8B"
      },
      "execution_count": null,
      "outputs": []
    },
    {
      "cell_type": "code",
      "source": [
        "#understanding the data\n",
        "print(df1.head())\n",
        "print(df1.info())\n",
        "print(df1.shape)"
      ],
      "metadata": {
        "id": "RSrmsCZPeTHZ"
      },
      "execution_count": null,
      "outputs": []
    },
    {
      "cell_type": "code",
      "source": [
        "df2=pd.read_csv('/content/SN_m_tot_V2.0.csv',sep=';',header=None)"
      ],
      "metadata": {
        "id": "tVM-8UPjeWb1"
      },
      "execution_count": null,
      "outputs": []
    },
    {
      "cell_type": "code",
      "source": [
        "df2.columns= [\"Year\", \"Month\", \"Decimal_date\", \"Monthly_Sunspot_Number\",\n",
        "              \"Monthly_mean_Std_Deviation\", \"Observations_Yearly\", \"Indicator\"]"
      ],
      "metadata": {
        "id": "ZU0ttQXQhRuQ"
      },
      "execution_count": null,
      "outputs": []
    },
    {
      "cell_type": "code",
      "source": [
        "#understanding the data\n",
        "print(df2.head())\n",
        "print(df2.info())\n",
        "print(df2.shape)"
      ],
      "metadata": {
        "id": "J7YP9PiMe5U0"
      },
      "execution_count": null,
      "outputs": []
    },
    {
      "cell_type": "code",
      "source": [
        "# Load the yearly dataset\n",
        "df3 = pd.read_csv(\"SN_y_tot_V2.0.csv\", delimiter=\";\", header=None)"
      ],
      "metadata": {
        "id": "seA3lZT_fCuC"
      },
      "execution_count": null,
      "outputs": []
    },
    {
      "cell_type": "code",
      "source": [
        "df3.columns= [\"Year\", \"Yearly_Sunspot_Number\", \"Yearly_mean_Std_Deviation\",\n",
        "              \"Observations_Yearly\", \"Indicator\"]"
      ],
      "metadata": {
        "id": "864f0Y4NhhKR"
      },
      "execution_count": null,
      "outputs": []
    },
    {
      "cell_type": "code",
      "source": [
        "#understanding the data\n",
        "print(df3.head())\n",
        "print(df3.info())\n",
        "print(df3.shape)"
      ],
      "metadata": {
        "id": "XNh309U4fcCP"
      },
      "execution_count": null,
      "outputs": []
    },
    {
      "cell_type": "code",
      "source": [
        "print(df1.duplicated().sum())\n",
        "print(df2.duplicated().sum())\n",
        "print(df3.duplicated().sum())"
      ],
      "metadata": {
        "id": "a71AV2A4ffwL"
      },
      "execution_count": null,
      "outputs": []
    },
    {
      "cell_type": "code",
      "source": [
        "print(df1.isnull().sum())\n",
        "print(df2.isnull().sum())\n",
        "print(df3.isnull().sum())"
      ],
      "metadata": {
        "id": "8hviKgpEi9U5"
      },
      "execution_count": null,
      "outputs": []
    },
    {
      "cell_type": "markdown",
      "source": [
        "**Preprocessing  and cleaning the Data**"
      ],
      "metadata": {
        "id": "mRCoBDc9qyv8"
      }
    },
    {
      "cell_type": "code",
      "source": [
        "df3['Year']=df3['Year'].astype(int)"
      ],
      "metadata": {
        "id": "gptsaAxRj7xZ"
      },
      "execution_count": null,
      "outputs": []
    },
    {
      "cell_type": "code",
      "source": [
        "df1['ds'] = pd.to_datetime(df1[['Year', 'Month', 'Day']])\n",
        "unit_daily = 'Daily'\n",
        "df1 = df1.rename(columns={'Daily_Sunspot_Number':'y'})\n",
        "df1=df1[['ds','y']]\n",
        "df1=df1[df1['y']>=0]   #Removing rows with 'y' column -1 value as it represents missing value\n",
        "print(df1.head())"
      ],
      "metadata": {
        "id": "QWN_WVMykOZG"
      },
      "execution_count": null,
      "outputs": []
    },
    {
      "cell_type": "code",
      "source": [
        "df2['ds'] = pd.to_datetime(df2[['Year', 'Month']].assign(Day=1))\n",
        "unit_monthly = 'Monthly'\n",
        "df2 = df2.rename(columns={'Monthly_Sunspot_Number':'y'})\n",
        "df2=df2[['ds','y']]\n",
        "df2=df2[df2['y']>=0] #Removing rows with 'y' column -1 value as it represents missing value\n",
        "print(df2.head())"
      ],
      "metadata": {
        "id": "eciRQsPX9Sa0"
      },
      "execution_count": null,
      "outputs": []
    },
    {
      "cell_type": "code",
      "source": [
        "df2.info()"
      ],
      "metadata": {
        "id": "ThvhBWUmdM7C"
      },
      "execution_count": null,
      "outputs": []
    },
    {
      "cell_type": "code",
      "source": [
        "df3['ds']=pd.to_datetime(df3[['Year']].assign(Day=1,month=1))\n",
        "unit_yearly = 'Yearly'\n",
        "df3 = df3.rename(columns={'Yearly_Sunspot_Number':'y'})\n",
        "df3=df3[['ds','y']]\n",
        "df3=df3[df3['y']>=0] #Removing rows with 'y' column -1 value as it represents missing value\n",
        "df3.drop(index=range(0,110),inplace=True)# removing data from 1700 to 1809\n",
        "print(df3.head())\n"
      ],
      "metadata": {
        "id": "96zZIuGsnzzZ"
      },
      "execution_count": null,
      "outputs": []
    },
    {
      "cell_type": "code",
      "source": [
        "df3.info()"
      ],
      "metadata": {
        "id": "OCkK26Q_dFLJ"
      },
      "execution_count": null,
      "outputs": []
    },
    {
      "cell_type": "code",
      "source": [
        "#For Daily dataset\n",
        "growth='linear'\n",
        "seasonality=None\n",
        "changepoint_prior_scale=0.05\n",
        "n_changepoints=25\n",
        "model= Prophet(growth=growth, changepoint_prior_scale=changepoint_prior_scale, n_changepoints=n_changepoints)\n",
        "\n",
        "forecast_periods = [100, 200, 365]  # Define multiple periods for prediction\n",
        "if growth == 'logistic':\n",
        "     df1['cap'] = df1['y'].max() + 10\n",
        "\n",
        "# Fit the model\n",
        "model.fit(df1)\n",
        "# Forecast for each period\n",
        "for periods in forecast_periods:\n",
        "    print(f\"\\n-----------Forecasting for {periods} days into the future-----------\")\n",
        "\n",
        "    # Generate future dates\n",
        "    future = model.make_future_dataframe(periods=periods, freq='D')\n",
        "    if growth == 'logistic':\n",
        "        future['cap'] = df1['cap'].max()\n",
        "\n",
        "    # Make predictions\n",
        "    forecast = model.predict(future)\n",
        "\n",
        "    # Print the last few forecasted values\n",
        "    print(f\"\\n\\n\\nForecasted values for the last few days of {periods} days:\")\n",
        "    print(forecast[['ds', 'yhat', 'yhat_lower', 'yhat_upper']].tail())\n",
        "\n",
        "    # Plot the forecast\n",
        "    plt.figure(figsize=(12, 6))\n",
        "    plt.plot(df1['ds'],df1['y'], label='Actual',color='blue')\n",
        "    plt.plot(forecast['ds'], forecast['yhat'], label='Forecast', linestyle='dashed',color='red')\n",
        "    plt.fill_between(forecast['ds'], forecast['yhat_lower'], forecast['yhat_upper'], color='yellow', alpha=0.2, label='Confidence Interval')\n",
        "    plt.title(f\"Sunspot Forecast ({periods} {unit_daily}(s)\")\n",
        "    plt.xlabel('Date')\n",
        "    plt.ylabel('Sunspots')\n",
        "    plt.legend()\n",
        "    plt.show()\n",
        "\n",
        "    #Evalution matrix\n",
        "    actual = df1['y']\n",
        "    predicted = forecast['yhat'][:len(df1)]\n",
        "    mae = mean_absolute_error(actual, predicted)\n",
        "    mape = mean_absolute_percentage_error(actual, predicted)\n",
        "    r2 = r2_score(actual, predicted)\n",
        "    evalution_matrix=pd.DataFrame({'MAE':[mae],'MAPE':[mape],'R2':[r2]})\n",
        "    print(f\"Evaluation Metrics for {unit_daily} dataset:\")\n",
        "    print(evalution_matrix)\n",
        "    print(\"\\n\\n\\n\")"
      ],
      "metadata": {
        "id": "fujmvYuG0qE3"
      },
      "execution_count": null,
      "outputs": []
    },
    {
      "cell_type": "code",
      "source": [
        "#for Monthly dataset\n",
        "growth='linear'\n",
        "changepoint_prior_scale=0.1\n",
        "n_changepoints=10\n",
        "fourier_orders =5\n",
        "\n",
        "model= Prophet(growth=growth, changepoint_prior_scale=changepoint_prior_scale, n_changepoints=n_changepoints)\n",
        "model.add_seasonality(name='monthly', period=12, fourier_order=fourier_orders)\n",
        "\n",
        "forecast_periods = [1,6,9]  # Define multiple periods for prediction\n",
        "if growth == 'logistic':\n",
        "     df2['cap'] = df2['y'].max() + 10\n",
        "# Fit the model\n",
        "model.fit(df2)\n",
        "# Forecast for each period\n",
        "for periods in forecast_periods:\n",
        "    print(f\"\\n-----------Forecasting for {periods} days into the future-----------\")\n",
        "\n",
        "    # Generate future dates\n",
        "    future = model.make_future_dataframe(periods=periods, freq='M')\n",
        "    if growth == 'logistic':\n",
        "        future['cap'] = df2['cap'].max()\n",
        "\n",
        "    # Make predictions\n",
        "    forecast = model.predict(future)\n",
        "\n",
        "    # Print the last few forecasted values\n",
        "    print(f\"\\n\\n\\nForecasted values for the last few days of {periods} months:\")\n",
        "    print(forecast[['ds', 'yhat', 'yhat_lower', 'yhat_upper']].tail())\n",
        "\n",
        "    # Plot the forecast\n",
        "    plt.figure(figsize=(12, 6))\n",
        "    plt.plot(df2['ds'],df2['y'], label='Actual',color='blue')\n",
        "    plt.plot(forecast['ds'], forecast['yhat'], label='Forecast', linestyle='dashed',color='red')\n",
        "    plt.fill_between(forecast['ds'], forecast['yhat_lower'], forecast['yhat_upper'], color='yellow', alpha=0.2, label='Confidence Interval')\n",
        "    plt.title(f\"Sunspot Forecast ({periods} {unit_monthly}(s)\")\n",
        "    plt.xlabel('Date')\n",
        "    plt.ylabel('Sunspots')\n",
        "    plt.legend()\n",
        "    plt.show()\n",
        "\n",
        "    #Evalution matrix\n",
        "    actual = df2['y']\n",
        "    predicted = forecast['yhat'][:len(df2)]\n",
        "    mae = mean_absolute_error(actual, predicted)\n",
        "    mape = mean_absolute_percentage_error(actual, predicted)\n",
        "    r2 = r2_score(actual, predicted)\n",
        "    evalution_matrix=pd.DataFrame({'MAE':[mae],'MAPE':[mape],'R2':[r2]})\n",
        "    print(f\"Evaluation Metrics for {unit_monthly} dataset:\")\n",
        "    print(evalution_matrix)"
      ],
      "metadata": {
        "id": "jW3CuJ0rbgUJ"
      },
      "execution_count": null,
      "outputs": []
    },
    {
      "cell_type": "code",
      "source": [
        "#for Monthly dataset\n",
        "growth='logistic'\n",
        "changepoint_prior_scale=0.1\n",
        "n_changepoints=10\n",
        "fourier_orders =5\n",
        "\n",
        "model= Prophet(growth=growth, changepoint_prior_scale=changepoint_prior_scale, n_changepoints=n_changepoints)\n",
        "model.add_seasonality(name='monthly', period=30, fourier_order=fourier_orders)\n",
        "\n",
        "forecast_periods = [1,6,9]  # Define multiple periods for prediction\n",
        "if growth == 'logistic':\n",
        "     df2['cap'] = df2['y'].max() + 10\n",
        "# Fit the model\n",
        "model.fit(df2)\n",
        "# Forecast for each period\n",
        "for periods in forecast_periods:\n",
        "    print(f\"\\n-----------Forecasting for {periods} days into the future-----------\")\n",
        "\n",
        "    # Generate future dates\n",
        "    future = model.make_future_dataframe(periods=periods, freq='M')\n",
        "    if growth == 'logistic':\n",
        "        future['cap'] = df2['cap'].max()\n",
        "\n",
        "    # Make predictions\n",
        "    forecast = model.predict(future)\n",
        "\n",
        "    # Print the last few forecasted values\n",
        "    print(f\"\\n\\n\\nForecasted values for the last few days of {periods} months:\")\n",
        "    print(forecast[['ds', 'yhat', 'yhat_lower', 'yhat_upper']].tail())\n",
        "\n",
        "    # Plot the forecast\n",
        "    plt.figure(figsize=(12, 6))\n",
        "    plt.plot(df2['ds'],df2['y'], label='Actual',color='blue')\n",
        "    plt.plot(forecast['ds'], forecast['yhat'], label='Forecast', linestyle='dashed',color='red')\n",
        "    plt.fill_between(forecast['ds'], forecast['yhat_lower'], forecast['yhat_upper'], color='yellow', alpha=0.2, label='Confidence Interval')\n",
        "    plt.title(f\"Sunspot Forecast ({periods} {unit_monthly}(s)\")\n",
        "    plt.xlabel('Date')\n",
        "    plt.ylabel('Sunspots')\n",
        "    plt.legend()\n",
        "    plt.show()\n",
        "\n",
        "    #Evalution matrix\n",
        "    actual = df2['y']\n",
        "    predicted = forecast['yhat'][:len(df2)]\n",
        "    mae = mean_absolute_error(actual, predicted)\n",
        "    mape = mean_absolute_percentage_error(actual, predicted)\n",
        "    r2 = r2_score(actual, predicted)\n",
        "    evalution_matrix=pd.DataFrame({'MAE':[mae],'MAPE':[mape],'R2':[r2]})\n",
        "    print(f\"Evaluation Metrics for {unit_monthly} dataset:\")\n",
        "    print(evalution_matrix)"
      ],
      "metadata": {
        "id": "Rzy7h4WFgSw9"
      },
      "execution_count": null,
      "outputs": []
    },
    {
      "cell_type": "code",
      "source": [
        "#for Yearly dataset\n",
        "growth='linear'\n",
        "changepoint_prior_scale=0.1\n",
        "n_changepoints=5\n",
        "fourier_orders =3\n",
        "\n",
        "model= Prophet(growth=growth, changepoint_prior_scale=changepoint_prior_scale, n_changepoints=n_changepoints)\n",
        "model.add_seasonality(name='yearly', period=11, fourier_order=fourier_orders)\n",
        "\n",
        "forecast_periods =[1,10,20] # Define multiple periods for prediction\n",
        "\n",
        "# Fit the model\n",
        "model.fit(df3)\n",
        "# Forecast for each period\n",
        "for periods in forecast_periods:\n",
        "    print(f\"\\n-----------Forecasting for {periods} days into the future-----------\")\n",
        "\n",
        "    # Generate future dates\n",
        "    future = model.make_future_dataframe(periods=periods, freq='Y')\n",
        "    if growth == 'logistic':\n",
        "        future['cap'] = df3['cap'].max()\n",
        "\n",
        "    # Make predictions\n",
        "    forecast = model.predict(future)\n",
        "\n",
        "    # Print the last few forecasted values\n",
        "    print(f\"\\n\\n\\nForecasted values for the last few days of {periods} Years:\")\n",
        "    print(forecast[['ds', 'yhat', 'yhat_lower', 'yhat_upper']].tail())\n",
        "\n",
        "    # Plot the forecast\n",
        "    plt.figure(figsize=(12, 6))\n",
        "    plt.plot(df3['ds'],df3['y'], label='Actual',color='blue')\n",
        "    plt.plot(forecast['ds'], forecast['yhat'], label='Forecast', linestyle='dashed',color='red')\n",
        "    plt.fill_between(forecast['ds'], forecast['yhat_lower'], forecast['yhat_upper'], color='yellow', alpha=0.2, label='Confidence Interval')\n",
        "    plt.title(f\"Sunspot Forecast ({periods} {unit_yearly}(s)\")\n",
        "    plt.xlabel('Date')\n",
        "    plt.ylabel('Sunspots')\n",
        "    plt.legend()\n",
        "    plt.show()\n",
        "\n",
        "    #Evalution matrix\n",
        "    actual = df3['y']\n",
        "    predicted = forecast['yhat'][:len(df3)]\n",
        "    mae = mean_absolute_error(actual, predicted)\n",
        "    mape = mean_absolute_percentage_error(actual, predicted)\n",
        "    r2 = r2_score(actual, predicted)\n",
        "    evalution_matrix=pd.DataFrame({'MAE':[mae],'MAPE':[mape],'R2':[r2]})\n",
        "    print(f\"Evaluation Metrics for {unit_yearly} dataset:\")\n",
        "    print(evalution_matrix)"
      ],
      "metadata": {
        "id": "wf8F4spZGkDR"
      },
      "execution_count": null,
      "outputs": []
    },
    {
      "cell_type": "code",
      "source": [
        "#for Yearly dataset\n",
        "growth='flat'\n",
        "changepoint_prior_scale=0.1\n",
        "n_changepoints=5\n",
        "fourier_orders =3\n",
        "\n",
        "model= Prophet(growth=growth, changepoint_prior_scale=changepoint_prior_scale, n_changepoints=n_changepoints)\n",
        "model.add_seasonality(name='yearly', period=11, fourier_order=fourier_orders)\n",
        "\n",
        "forecast_periods =[1,10,20] # Define multiple periods for prediction\n",
        "# Fit the model\n",
        "model.fit(df3)\n",
        "# Forecast for each period\n",
        "for periods in forecast_periods:\n",
        "    print(f\"\\n-----------Forecasting for {periods} days into the future-----------\")\n",
        "\n",
        "    # Generate future dates\n",
        "    future = model.make_future_dataframe(periods=periods, freq='Y')\n",
        "    if growth == 'logistic':\n",
        "        future['cap'] = df3['cap'].max()\n",
        "\n",
        "    # Make predictions\n",
        "    forecast = model.predict(future)\n",
        "\n",
        "    # Print the last few forecasted values\n",
        "    print(f\"\\n\\n\\nForecasted values for the last few days of {periods} Years:\")\n",
        "    print(forecast[['ds', 'yhat', 'yhat_lower', 'yhat_upper']].tail())\n",
        "\n",
        "    # Plot the forecast\n",
        "    plt.figure(figsize=(12, 6))\n",
        "    plt.plot(df3['ds'],df3['y'], label='Actual',color='blue')\n",
        "    plt.plot(forecast['ds'], forecast['yhat'], label='Forecast', linestyle='dashed',color='red')\n",
        "    plt.fill_between(forecast['ds'], forecast['yhat_lower'], forecast['yhat_upper'], color='yellow', alpha=0.2, label='Confidence Interval')\n",
        "    plt.title(f\"Sunspot Forecast ({periods} {unit_yearly}(s)\")\n",
        "    plt.xlabel('Date')\n",
        "    plt.ylabel('Sunspots')\n",
        "    plt.legend()\n",
        "    plt.show()\n",
        "\n",
        "    #Evalution matrix\n",
        "    actual = df3['y']\n",
        "    predicted = forecast['yhat'][:len(df3)]\n",
        "    mae = mean_absolute_error(actual, predicted)\n",
        "    mape = mean_absolute_percentage_error(actual, predicted)\n",
        "    r2 = r2_score(actual, predicted)\n",
        "    evalution_matrix=pd.DataFrame({'MAE':[mae],'MAPE':[mape],'R2':[r2]})\n",
        "    print(f\"Evaluation Metrics for {unit_yearly} dataset:\")\n",
        "    print(evalution_matrix)"
      ],
      "metadata": {
        "id": "OFloq0Kf1Hpe"
      },
      "execution_count": null,
      "outputs": []
    }
  ]
}